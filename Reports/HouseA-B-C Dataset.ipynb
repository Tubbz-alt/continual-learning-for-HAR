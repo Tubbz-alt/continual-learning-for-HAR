{
 "cells": [
  {
   "cell_type": "markdown",
   "metadata": {},
   "source": [
    "       \n",
    "# House A B C\n",
    "\n",
    "Columns 1~243 are features, listed in the order of 'Wrist', 'Chest', and 'Ankle'. \n",
    "\n",
    "Column 244 is the activity label. \n",
    "\n",
    "Column 245 denotes the person (1~9).\n",
    "\n",
    "van Kasteren, T. L., Englebienne, G., & Kröse, B. J. (2011). Human activity recognition from wireless sensor network data: Benchmark and software. In Activity recognition in pervasive intelligent environments (pp. 165-186). Atlantis Press.\n",
    "\n",
    "#### Feature extraction by\n",
    "Juan Ye and Simon Dobson. Xlearn: learning activity labels across heterogeneous datasets. Submitted to\n",
    "IEEE Transactions on Knowledge Discovery from Data"
   ]
  },
  {
   "cell_type": "code",
   "execution_count": 1,
   "metadata": {},
   "outputs": [],
   "source": [
    "import scipy.io\n",
    "import warnings\n",
    "warnings.filterwarnings('ignore')\n",
    "\n",
    "import numpy as np\n",
    "import pandas as pd\n",
    "import seaborn as sns\n",
    "import matplotlib.pyplot as plt"
   ]
  },
  {
   "cell_type": "code",
   "execution_count": 19,
   "metadata": {},
   "outputs": [
    {
     "name": "stdout",
     "output_type": "stream",
     "text": [
      "Sensors\n",
      "['Microwave']\n",
      "['Hall-Toilet door']\n",
      "['Hall-Bathroom door']\n",
      "['Cups cupboard']\n",
      "['Fridge']\n",
      "['Plates cupboard']\n",
      "['Frontdoor']\n",
      "['Dishwasher']\n",
      "['ToiletFlush']\n",
      "['Freezer']\n",
      "['Pans Cupboard']\n",
      "['Washingmachine']\n",
      "['Groceries Cupboard']\n",
      "['Hall-Bedroom door']\n",
      "Activity Labels\n",
      "['leave house'] 1\n",
      "[] 1\n",
      "['Eating'] 1\n",
      "['use toilet'] 1\n",
      "['take shower'] 1\n",
      "['brush teeth'] 1\n",
      "[] 1\n",
      "[] 1\n",
      "[] 1\n",
      "['go to bed'] 1\n",
      "[] 1\n",
      "[] 1\n",
      "['prepare Breakfast'] 1\n",
      "[] 1\n",
      "['prepare Dinner'] 1\n",
      "['get snack'] 1\n",
      "['get drink'] 1\n",
      "['put items in dishwasher'] 1\n",
      "['unload dishwasher'] 1\n",
      "['store groceries'] 1\n",
      "[] 1\n",
      "['put clothes in washingmachine'] 1\n",
      "['unload washingmachine'] 1\n",
      "[] 1\n",
      "['receive guest'] 1\n"
     ]
    }
   ],
   "source": [
    "filename = \"houseA/senseandactLabelsHouseA.mat\"\n",
    "mat = scipy.io.loadmat('../Dataset/House/'+filename)\n",
    "\n",
    "print(\"Sensors\")\n",
    "for s in mat[\"sensor_labels\"]:\n",
    "    print(s[1])\n",
    "    \n",
    "print(\"Activity Labels\")\n",
    "for a in mat[\"activity_labels\"]:\n",
    "    print(a[0], len(a))"
   ]
  },
  {
   "cell_type": "code",
   "execution_count": 47,
   "metadata": {},
   "outputs": [
    {
     "data": {
      "text/html": [
       "<div>\n",
       "<style scoped>\n",
       "    .dataframe tbody tr th:only-of-type {\n",
       "        vertical-align: middle;\n",
       "    }\n",
       "\n",
       "    .dataframe tbody tr th {\n",
       "        vertical-align: top;\n",
       "    }\n",
       "\n",
       "    .dataframe thead th {\n",
       "        text-align: right;\n",
       "    }\n",
       "</style>\n",
       "<table border=\"1\" class=\"dataframe\">\n",
       "  <thead>\n",
       "    <tr style=\"text-align: right;\">\n",
       "      <th></th>\n",
       "      <th>AID</th>\n",
       "      <th>S0</th>\n",
       "      <th>S1</th>\n",
       "      <th>S2</th>\n",
       "      <th>S3</th>\n",
       "      <th>S4</th>\n",
       "      <th>S5</th>\n",
       "      <th>S6</th>\n",
       "      <th>S7</th>\n",
       "      <th>S8</th>\n",
       "      <th>S9</th>\n",
       "      <th>S10</th>\n",
       "      <th>S11</th>\n",
       "      <th>S12</th>\n",
       "      <th>S13</th>\n",
       "    </tr>\n",
       "  </thead>\n",
       "  <tbody>\n",
       "    <tr>\n",
       "      <th>0</th>\n",
       "      <td>3</td>\n",
       "      <td>0.0</td>\n",
       "      <td>0.0</td>\n",
       "      <td>0.0</td>\n",
       "      <td>0.0</td>\n",
       "      <td>0.0</td>\n",
       "      <td>0.0</td>\n",
       "      <td>0</td>\n",
       "      <td>0.0</td>\n",
       "      <td>0.0</td>\n",
       "      <td>0.0</td>\n",
       "      <td>0.0</td>\n",
       "      <td>0</td>\n",
       "      <td>0.0</td>\n",
       "      <td>1.0</td>\n",
       "    </tr>\n",
       "    <tr>\n",
       "      <th>1</th>\n",
       "      <td>3</td>\n",
       "      <td>0.0</td>\n",
       "      <td>0.0</td>\n",
       "      <td>0.0</td>\n",
       "      <td>0.0</td>\n",
       "      <td>0.0</td>\n",
       "      <td>0.0</td>\n",
       "      <td>0</td>\n",
       "      <td>0.0</td>\n",
       "      <td>0.0</td>\n",
       "      <td>0.0</td>\n",
       "      <td>0.0</td>\n",
       "      <td>0</td>\n",
       "      <td>0.0</td>\n",
       "      <td>1.0</td>\n",
       "    </tr>\n",
       "    <tr>\n",
       "      <th>2</th>\n",
       "      <td>1</td>\n",
       "      <td>0.0</td>\n",
       "      <td>0.0</td>\n",
       "      <td>0.5</td>\n",
       "      <td>0.0</td>\n",
       "      <td>0.0</td>\n",
       "      <td>0.0</td>\n",
       "      <td>0</td>\n",
       "      <td>0.0</td>\n",
       "      <td>0.5</td>\n",
       "      <td>0.0</td>\n",
       "      <td>0.0</td>\n",
       "      <td>0</td>\n",
       "      <td>0.0</td>\n",
       "      <td>0.0</td>\n",
       "    </tr>\n",
       "    <tr>\n",
       "      <th>3</th>\n",
       "      <td>4</td>\n",
       "      <td>0.2</td>\n",
       "      <td>0.0</td>\n",
       "      <td>0.0</td>\n",
       "      <td>0.0</td>\n",
       "      <td>0.4</td>\n",
       "      <td>0.4</td>\n",
       "      <td>0</td>\n",
       "      <td>0.0</td>\n",
       "      <td>0.0</td>\n",
       "      <td>0.0</td>\n",
       "      <td>0.0</td>\n",
       "      <td>0</td>\n",
       "      <td>0.0</td>\n",
       "      <td>0.0</td>\n",
       "    </tr>\n",
       "    <tr>\n",
       "      <th>4</th>\n",
       "      <td>4</td>\n",
       "      <td>0.0</td>\n",
       "      <td>0.0</td>\n",
       "      <td>0.0</td>\n",
       "      <td>0.0</td>\n",
       "      <td>0.0</td>\n",
       "      <td>0.0</td>\n",
       "      <td>0</td>\n",
       "      <td>0.0</td>\n",
       "      <td>0.0</td>\n",
       "      <td>0.0</td>\n",
       "      <td>0.0</td>\n",
       "      <td>0</td>\n",
       "      <td>1.0</td>\n",
       "      <td>0.0</td>\n",
       "    </tr>\n",
       "  </tbody>\n",
       "</table>\n",
       "</div>"
      ],
      "text/plain": [
       "   AID   S0   S1   S2   S3   S4   S5  S6   S7   S8   S9  S10  S11  S12  S13\n",
       "0    3  0.0  0.0  0.0  0.0  0.0  0.0   0  0.0  0.0  0.0  0.0    0  0.0  1.0\n",
       "1    3  0.0  0.0  0.0  0.0  0.0  0.0   0  0.0  0.0  0.0  0.0    0  0.0  1.0\n",
       "2    1  0.0  0.0  0.5  0.0  0.0  0.0   0  0.0  0.5  0.0  0.0    0  0.0  0.0\n",
       "3    4  0.2  0.0  0.0  0.0  0.4  0.4   0  0.0  0.0  0.0  0.0    0  0.0  0.0\n",
       "4    4  0.0  0.0  0.0  0.0  0.0  0.0   0  0.0  0.0  0.0  0.0    0  1.0  0.0"
      ]
     },
     "execution_count": 47,
     "metadata": {},
     "output_type": "execute_result"
    }
   ],
   "source": [
    "filename = \"houseA/sensor_data_HR_SIN_A.csv\"\n",
    "raw = pd.read_csv('../Dataset/House/'+filename, sep=\",\")\n",
    "raw.head()"
   ]
  },
  {
   "cell_type": "code",
   "execution_count": 48,
   "metadata": {},
   "outputs": [],
   "source": [
    "# activityNames = [None, \"lying\", \"sitting\", \"standing\", \"walking\", \"running\", \"cycling\", \"Nordic walking\", None, \"watching TV\", \"computer work\", \"car driving\", \"ascending stairs\", \"descending stairs\", None, None, \"vacuum cleaning\", \"ironing\", \"folding laundry\", \"house cleaning\", \"playing soccer\", None, None, None, \"rope jumping\"]"
   ]
  },
  {
   "cell_type": "code",
   "execution_count": 54,
   "metadata": {},
   "outputs": [],
   "source": [
    "def add_activityname(x):\n",
    "#     name = \"R\"+str(int(x[\"PersonID\"]))+\"_\"+activityNames[int(x[\"ActivityID\"])]\n",
    "#     name = activityNames[int(x[\"ActivityID\"])]\n",
    "    return x[\"AID\"]\n",
    "\n",
    "raw[\"ActivityName\"] = raw.apply(add_activityname, axis=1)\n",
    "df = raw.drop('AID', 1)"
   ]
  },
  {
   "cell_type": "code",
   "execution_count": 56,
   "metadata": {},
   "outputs": [],
   "source": [
    "df.to_csv(\"HouseA.feat\", index=False)"
   ]
  },
  {
   "cell_type": "code",
   "execution_count": 51,
   "metadata": {},
   "outputs": [
    {
     "data": {
      "text/plain": [
       "array([3., 1., 4., 2., 0., 6., 5.])"
      ]
     },
     "execution_count": 51,
     "metadata": {},
     "output_type": "execute_result"
    }
   ],
   "source": [
    "raw[\"ActivityName\"].unique()"
   ]
  },
  {
   "cell_type": "code",
   "execution_count": 52,
   "metadata": {},
   "outputs": [
    {
     "data": {
      "image/png": "[encoded data removed]",
      "text/plain": [
       "<Figure size 1440x360 with 1 Axes>"
      ]
     },
     "metadata": {},
     "output_type": "display_data"
    }
   ],
   "source": [
    "activity_labels = raw[\"ActivityName\"].unique()\n",
    "ind = np.arange(len(activity_labels))\n",
    "plt.rcParams['figure.figsize'] = [10, 5]\n",
    "nRow = []\n",
    "for label in activity_labels:\n",
    "    c = len(raw[raw[\"ActivityName\"]==label])\n",
    "    nRow.append(c)\n",
    "    \n",
    "plt.rcParams['figure.figsize'] = [20, 5]\n",
    "p1 = plt.bar(ind, nRow)\n",
    "\n",
    "plt.ylabel('Number of records')\n",
    "plt.title('Number of records in raw data of each activity class')\n",
    "plt.xticks(ind, activity_labels, rotation='vertical')\n",
    "\n",
    "plt.show()"
   ]
  },
  {
   "cell_type": "code",
   "execution_count": null,
   "metadata": {},
   "outputs": [],
   "source": []
  },
  {
   "cell_type": "code",
   "execution_count": null,
   "metadata": {},
   "outputs": [],
   "source": []
  }
 ],
 "metadata": {
  "kernelspec": {
   "display_name": "Python 3",
   "language": "python",
   "name": "python3"
  },
  "language_info": {
   "codemirror_mode": {
    "name": "ipython",
    "version": 3
   },
   "file_extension": ".py",
   "mimetype": "text/x-python",
   "name": "python",
   "nbconvert_exporter": "python",
   "pygments_lexer": "ipython3",
   "version": "3.7.4"
  }
 },
 "nbformat": 4,
 "nbformat_minor": 2
}
