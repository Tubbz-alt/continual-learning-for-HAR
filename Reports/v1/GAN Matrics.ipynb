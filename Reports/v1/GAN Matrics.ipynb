{
 "cells": [
  {
   "cell_type": "markdown",
   "metadata": {},
   "source": [
    "# GAN Matrics"
   ]
  },
  {
   "cell_type": "code",
   "execution_count": 9,
   "metadata": {},
   "outputs": [],
   "source": [
    "import numpy as np\n",
    "import pandas as pd\n",
    "import seaborn as sns\n",
    "import matplotlib.pyplot as plt\n",
    "from sklearn.manifold import TSNE\n",
    "from scipy import stats\n",
    "import warnings\n",
    "warnings.filterwarnings('ignore')\n",
    "\n",
    "plt.rcParams['figure.figsize'] = [10, 5]\n"
   ]
  },
  {
   "cell_type": "code",
   "execution_count": 10,
   "metadata": {},
   "outputs": [],
   "source": [
    "def printGANMetrics(metrics):\n",
    "    names = [\"IS Score\", \"MMD\", \"1-NN Acc\", \"1-NN TPR\", \"1-NN TNR\", \"Offline Acc\", \"Training Time\"]\n",
    "#     for i, metric in enumerate(metrics):\n",
    "#         print(\"Metric\", names[i])\n",
    "#         for m in metric:\n",
    "#             avg = np.mean(metric[m])\n",
    "#             err = stats.sem(metric[m])\n",
    "#             print(\"{0} {1:.3f} {2:.3f}\".format(m, avg, err))\n",
    "#         print(\"===================\")\n",
    "    \n",
    "    for m in metrics[0]:\n",
    "        print(m)\n",
    "        for i, n in enumerate(names):\n",
    "            metric = metrics[i]\n",
    "            avg = np.mean(metric[m])\n",
    "            err = stats.sem(metric[m])\n",
    "            print(\"{0} {1:.3f} {2:.3f}\".format(n, avg, err))\n",
    "        print(\"===================\")"
   ]
  },
  {
   "cell_type": "code",
   "execution_count": null,
   "metadata": {},
   "outputs": [],
   "source": []
  },
  {
   "cell_type": "code",
   "execution_count": 17,
   "metadata": {},
   "outputs": [],
   "source": [
    "def calculateGANMetircs(raw_gan, lst=[\"all\"]):\n",
    "    \n",
    "    method = raw_gan[\"method\"].unique()\n",
    "    \n",
    "    is_score = {k:[] for k in method}\n",
    "    is_err = {k:[] for k in method}\n",
    "    mmd_score = {k:[] for k in method}\n",
    "    knn_acc = {k:[] for k in method}\n",
    "    knn_TPR = {k:[] for k in method}\n",
    "    knn_TNR = {k:[] for k in method}\n",
    "    offline_acc = {k:[] for k in method}\n",
    "    training_time = {k:[] for k in method}\n",
    "    \n",
    "    for c in lst:\n",
    "        rows = raw_gan[raw_gan[\"class\"]==c]\n",
    "        for m in method:\n",
    "            _m = rows[rows[\"method\"]==m]\n",
    "\n",
    "            is_score[m].append(float(_m[\"is\"]))\n",
    "            mmd_score[m].append(float(_m[\"mmd\"]))\n",
    "            knn_acc[m].append(float(_m[\"knn_tp\"]+_m[\"knn_tn\"])/float(_m[\"knn_tp\"]+_m[\"knn_tn\"]+_m[\"knn_fp\"]+_m[\"knn_fn\"]))\n",
    "            knn_TPR[m].append(float(_m[\"knn_tp\"])/float(_m[\"knn_tp\"]+_m[\"knn_fn\"]))\n",
    "            knn_TNR[m].append(float(_m[\"knn_tn\"])/float(_m[\"knn_tn\"]+_m[\"knn_fp\"]))\n",
    "\n",
    "            offline_acc[m].append(float(_m[\"offline_acc_fake\"]))\n",
    "        \n",
    "    return is_score, mmd_score, knn_acc, knn_TPR, knn_TNR, offline_acc, training_time"
   ]
  },
  {
   "cell_type": "code",
   "execution_count": 32,
   "metadata": {},
   "outputs": [
    {
     "name": "stdout",
     "output_type": "stream",
     "text": [
      "mp-gan\n",
      "IS Score 3.671 nan\n",
      "MMD 0.171 nan\n",
      "1-NN Acc 0.934 nan\n",
      "1-NN TPR 0.888 nan\n",
      "1-NN TNR 0.956 nan\n",
      "Offline Acc 1.000 nan\n",
      "Training Time nan nan\n",
      "===================\n",
      "mp-wgan\n",
      "IS Score 3.017 nan\n",
      "MMD 0.158 nan\n",
      "1-NN Acc 0.966 nan\n",
      "1-NN TPR 0.915 nan\n",
      "1-NN TNR 0.991 nan\n",
      "Offline Acc 0.830 nan\n",
      "Training Time nan nan\n",
      "===================\n",
      "sg-cgan\n",
      "IS Score 4.350 nan\n",
      "MMD 0.180 nan\n",
      "1-NN Acc 0.957 nan\n",
      "1-NN TPR 0.903 nan\n",
      "1-NN TNR 0.983 nan\n",
      "Offline Acc 0.833 nan\n",
      "Training Time nan nan\n",
      "===================\n",
      "sg-cwgan\n",
      "IS Score 4.098 nan\n",
      "MMD 0.222 nan\n",
      "1-NN Acc 0.982 nan\n",
      "1-NN TPR 0.944 nan\n",
      "1-NN TNR 1.000 nan\n",
      "Offline Acc 1.000 nan\n",
      "Training Time nan nan\n",
      "===================\n"
     ]
    }
   ],
   "source": [
    "dataset = \"HouseA\"\n",
    "folder = \"../../Results/\"+dataset+\"/exp_generated_sample/\"\n",
    "\n",
    "raw_gan = pd.read_csv(folder+\"gan_score.csv\")\n",
    "raw_gan.columns = [c.strip() for c in raw_gan.columns]\n",
    "\n",
    "# cc = raw_gan[\"class\"].unique()\n",
    "# # cc = cc[cc!=\"all\"]\n",
    "# m = calculateGANMetircs(raw_gan, cc)\n",
    "# printGANMetrics(m)\n",
    "\n",
    "m = calculateGANMetircs(raw_gan, [\"all\"])\n",
    "printGANMetrics(m)"
   ]
  },
  {
   "cell_type": "code",
   "execution_count": 20,
   "metadata": {},
   "outputs": [
    {
     "name": "stdout",
     "output_type": "stream",
     "text": [
      "mp-gan\n",
      "IS Score 8.325 nan\n",
      "MMD 0.250 nan\n",
      "1-NN Acc 0.910 nan\n",
      "1-NN TPR 0.891 nan\n",
      "1-NN TNR 0.930 nan\n",
      "Offline Acc 0.791 nan\n",
      "Training Time nan nan\n",
      "===================\n",
      "mp-wgan\n",
      "IS Score 6.309 nan\n",
      "MMD 0.201 nan\n",
      "1-NN Acc 0.902 nan\n",
      "1-NN TPR 0.884 nan\n",
      "1-NN TNR 0.921 nan\n",
      "Offline Acc 0.796 nan\n",
      "Training Time nan nan\n",
      "===================\n",
      "sg-cgan\n",
      "IS Score 6.932 nan\n",
      "MMD 0.204 nan\n",
      "1-NN Acc 0.947 nan\n",
      "1-NN TPR 0.893 nan\n",
      "1-NN TNR 1.000 nan\n",
      "Offline Acc 0.917 nan\n",
      "Training Time nan nan\n",
      "===================\n",
      "sg-cwgan\n",
      "IS Score 7.811 nan\n",
      "MMD 0.215 nan\n",
      "1-NN Acc 0.973 nan\n",
      "1-NN TPR 0.945 nan\n",
      "1-NN TNR 1.000 nan\n",
      "Offline Acc 0.937 nan\n",
      "Training Time nan nan\n",
      "===================\n"
     ]
    }
   ],
   "source": [
    "dataset = \"CASAS\"\n",
    "folder = \"../../Results/\"+dataset+\"/exp_generated_sample/\"\n",
    "\n",
    "raw_gan = pd.read_csv(folder+\"gan_score.csv\")\n",
    "raw_gan.columns = [c.strip() for c in raw_gan.columns]\n",
    "\n",
    "m = calculateGANMetircs(raw_gan, [\"all\"])\n",
    "\n",
    "printGANMetrics(m)"
   ]
  },
  {
   "cell_type": "code",
   "execution_count": 21,
   "metadata": {},
   "outputs": [
    {
     "name": "stdout",
     "output_type": "stream",
     "text": [
      "mp-gan\n",
      "IS Score 8.592 nan\n",
      "MMD 0.156 nan\n",
      "1-NN Acc 0.927 nan\n",
      "1-NN TPR 0.854 nan\n",
      "1-NN TNR 1.000 nan\n",
      "Offline Acc 0.894 nan\n",
      "Training Time nan nan\n",
      "===================\n",
      "mp-wgan\n",
      "IS Score 4.369 nan\n",
      "MMD 0.593 nan\n",
      "1-NN Acc 0.999 nan\n",
      "1-NN TPR 0.999 nan\n",
      "1-NN TNR 0.998 nan\n",
      "Offline Acc 0.438 nan\n",
      "Training Time nan nan\n",
      "===================\n",
      "sg-cgan\n",
      "IS Score 7.684 nan\n",
      "MMD 0.202 nan\n",
      "1-NN Acc 0.962 nan\n",
      "1-NN TPR 0.925 nan\n",
      "1-NN TNR 0.999 nan\n",
      "Offline Acc 0.901 nan\n",
      "Training Time nan nan\n",
      "===================\n",
      "sg-cwgan\n",
      "IS Score 5.362 nan\n",
      "MMD 0.384 nan\n",
      "1-NN Acc 1.000 nan\n",
      "1-NN TPR 0.999 nan\n",
      "1-NN TNR 1.000 nan\n",
      "Offline Acc 0.501 nan\n",
      "Training Time nan nan\n",
      "===================\n"
     ]
    }
   ],
   "source": [
    "dataset = \"PAMAP\"\n",
    "folder = \"../../Results/\"+dataset+\"/exp_generated_sample/\"\n",
    "\n",
    "raw_gan = pd.read_csv(folder+\"gan_score.csv\")\n",
    "raw_gan.columns = [c.strip() for c in raw_gan.columns]\n",
    "\n",
    "m = calculateGANMetircs(raw_gan, [\"all\"])\n",
    "\n",
    "printGANMetrics(m)"
   ]
  },
  {
   "cell_type": "code",
   "execution_count": 22,
   "metadata": {},
   "outputs": [
    {
     "name": "stdout",
     "output_type": "stream",
     "text": [
      "mp-gan\n",
      "IS Score 3.787 nan\n",
      "MMD 0.656 nan\n",
      "1-NN Acc 1.000 nan\n",
      "1-NN TPR 1.000 nan\n",
      "1-NN TNR 1.000 nan\n",
      "Offline Acc 0.617 nan\n",
      "Training Time nan nan\n",
      "===================\n",
      "mp-wgan\n",
      "IS Score 3.685 nan\n",
      "MMD 0.796 nan\n",
      "1-NN Acc 1.000 nan\n",
      "1-NN TPR 1.000 nan\n",
      "1-NN TNR 1.000 nan\n",
      "Offline Acc 0.299 nan\n",
      "Training Time nan nan\n",
      "===================\n",
      "sg-cgan\n",
      "IS Score 6.301 nan\n",
      "MMD 0.347 nan\n",
      "1-NN Acc 0.988 nan\n",
      "1-NN TPR 0.976 nan\n",
      "1-NN TNR 1.000 nan\n",
      "Offline Acc 0.597 nan\n",
      "Training Time nan nan\n",
      "===================\n",
      "sg-cwgan\n",
      "IS Score 1.109 nan\n",
      "MMD 0.895 nan\n",
      "1-NN Acc 1.000 nan\n",
      "1-NN TPR 1.000 nan\n",
      "1-NN TNR 1.000 nan\n",
      "Offline Acc 0.093 nan\n",
      "Training Time nan nan\n",
      "===================\n"
     ]
    }
   ],
   "source": [
    "dataset = \"DSADS\"\n",
    "folder = \"../../Results/\"+dataset+\"/exp_generated_sample/\"\n",
    "\n",
    "raw_gan = pd.read_csv(folder+\"gan_score.csv\")\n",
    "raw_gan.columns = [c.strip() for c in raw_gan.columns]\n",
    "\n",
    "m = calculateGANMetircs(raw_gan, [\"all\"])\n",
    "\n",
    "printGANMetrics(m)"
   ]
  },
  {
   "cell_type": "code",
   "execution_count": null,
   "metadata": {},
   "outputs": [],
   "source": []
  }
 ],
 "metadata": {
  "kernelspec": {
   "display_name": "Python 3",
   "language": "python",
   "name": "python3"
  },
  "language_info": {
   "codemirror_mode": {
    "name": "ipython",
    "version": 3
   },
   "file_extension": ".py",
   "mimetype": "text/x-python",
   "name": "python",
   "nbconvert_exporter": "python",
   "pygments_lexer": "ipython3",
   "version": "3.7.3"
  }
 },
 "nbformat": 4,
 "nbformat_minor": 2
}
