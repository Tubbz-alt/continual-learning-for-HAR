{
 "cells": [
  {
   "cell_type": "code",
   "execution_count": 1,
   "metadata": {},
   "outputs": [],
   "source": [
    "import numpy as np\n",
    "import pandas as pd\n",
    "import seaborn as sns\n",
    "import matplotlib.pyplot as plt\n",
    "from sklearn.manifold import TSNE\n",
    "\n",
    "import warnings\n",
    "warnings.filterwarnings('ignore')\n",
    "\n",
    "plt.rcParams['figure.figsize'] = [10, 5]\n"
   ]
  },
  {
   "cell_type": "code",
   "execution_count": 15,
   "metadata": {},
   "outputs": [
    {
     "name": "stdout",
     "output_type": "stream",
     "text": [
      "Dataset HouseA\n",
      "mp-gan 218.221 4.457\n",
      "mp-wgan 420.430 6.197\n",
      "sg-cgan 230.270 41.246\n",
      "sg-cwgan 417.628 84.313\n",
      "=============\n",
      "Dataset CASAS\n",
      "mp-gan 113.453 0.959\n",
      "mp-wgan 221.088 1.594\n",
      "sg-cgan 152.586 18.197\n",
      "sg-cwgan 254.707 26.133\n",
      "=============\n",
      "Dataset PAMAP\n",
      "mp-gan 199.390 1.438\n",
      "mp-wgan 364.938 4.492\n",
      "sg-cgan 269.627 28.846\n",
      "sg-cwgan 397.254 42.922\n",
      "=============\n",
      "Dataset DSADS\n",
      "mp-gan 234.003 9.589\n",
      "mp-wgan 424.940 11.527\n",
      "sg-cgan 313.566 33.527\n",
      "sg-cwgan 394.307 60.784\n",
      "=============\n"
     ]
    }
   ],
   "source": [
    "from scipy import stats \n",
    "all_values = {}\n",
    "for d in [\"HouseA\", \"CASAS\", \"PAMAP\", \"DSADS\"]:\n",
    "    dataset = d\n",
    "    folder = \"../../Results/\"+dataset+\"/\"\n",
    "    \n",
    "    raw = pd.read_csv(folder+\"results.txt\")\n",
    "    raw.columns = [c.strip() for c in raw.columns]\n",
    "    raw[\"train_session\"] = pd.to_numeric(raw[\"train_session\"], errors='coerce')\n",
    "    \n",
    "    raw[\"generator_training_time\"] = pd.to_numeric(raw[\"generator_training_time\"], errors='coerce')\n",
    "    raw[\"solver_training_time\"] = pd.to_numeric(raw[\"solver_training_time\"], errors='coerce')\n",
    "    \n",
    "    models = raw[\"method\"].unique()\n",
    "    print(\"Dataset\", d)\n",
    "    for model in [\"mp-gan\", \"mp-wgan\", \"sg-cgan\", \"sg-cwgan\"]:\n",
    "        \n",
    "        # operation per seconds\n",
    "        \n",
    "        m = raw[raw[\"method\"]==model]\n",
    "        m = m[m[\"task_index\"]==1]\n",
    "        \n",
    "        # heuristic estimate training time for mGAN \n",
    "        # because data here were from 1000 epoches training \n",
    "        # but we would like a number for 5000 epoches (to compare with 5000 epoch on cGAN) \n",
    "        if model in [\"mp-gan\", \"mp-wgan\"]:\n",
    "            m['generator_training_time'] = m['generator_training_time'] * 5\n",
    "            \n",
    "            \n",
    "        x = (m['generator_training_time'] + m['solver_training_time'])\n",
    "        t = x.mean()\n",
    "        err = stats.sem(list(x))\n",
    "        \n",
    "        \n",
    "        print(\"{0} {1:.3f} {2:.3f}\".format(model, t, err))\n",
    "    print(\"=============\")"
   ]
  },
  {
   "cell_type": "code",
   "execution_count": null,
   "metadata": {},
   "outputs": [],
   "source": []
  }
 ],
 "metadata": {
  "kernelspec": {
   "display_name": "Python 3",
   "language": "python",
   "name": "python3"
  },
  "language_info": {
   "codemirror_mode": {
    "name": "ipython",
    "version": 3
   },
   "file_extension": ".py",
   "mimetype": "text/x-python",
   "name": "python",
   "nbconvert_exporter": "python",
   "pygments_lexer": "ipython3",
   "version": "3.7.3"
  }
 },
 "nbformat": 4,
 "nbformat_minor": 2
}
