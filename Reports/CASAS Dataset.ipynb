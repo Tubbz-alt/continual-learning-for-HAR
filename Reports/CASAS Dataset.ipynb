{
 "cells": [
  {
   "cell_type": "markdown",
   "metadata": {},
   "source": [
    "# CASAS Dataset\n",
    "\n",
    "### Activity Recognition in Pervasive Smart Home Environments"
   ]
  },
  {
   "cell_type": "code",
   "execution_count": 1,
   "metadata": {},
   "outputs": [],
   "source": [
    "import warnings\n",
    "warnings.filterwarnings('ignore')\n",
    "\n",
    "import numpy as np\n",
    "import pandas as pd\n",
    "import seaborn as sns\n",
    "import matplotlib.pyplot as plt\n",
    "\n",
    "plt.rcParams['figure.figsize'] = [10, 5]"
   ]
  },
  {
   "cell_type": "code",
   "execution_count": 8,
   "metadata": {},
   "outputs": [],
   "source": [
    "fileName = \"annotated\"\n",
    "dataDir = '../Data/twor.2009/'\n",
    "columns = [\"Date\", \"Time\", \"SensorID\", \"SensorValue\", \"ActivityLabel\", \"Status\"]\n",
    "raw = pd.read_csv(dataDir+fileName, sep=\" \", names=columns, header=None)"
   ]
  },
  {
   "cell_type": "code",
   "execution_count": 9,
   "metadata": {},
   "outputs": [
    {
     "data": {
      "text/html": [
       "<div>\n",
       "<style scoped>\n",
       "    .dataframe tbody tr th:only-of-type {\n",
       "        vertical-align: middle;\n",
       "    }\n",
       "\n",
       "    .dataframe tbody tr th {\n",
       "        vertical-align: top;\n",
       "    }\n",
       "\n",
       "    .dataframe thead th {\n",
       "        text-align: right;\n",
       "    }\n",
       "</style>\n",
       "<table border=\"1\" class=\"dataframe\">\n",
       "  <thead>\n",
       "    <tr style=\"text-align: right;\">\n",
       "      <th></th>\n",
       "      <th>Date</th>\n",
       "      <th>Time</th>\n",
       "      <th>SensorID</th>\n",
       "      <th>SensorValue</th>\n",
       "      <th>ActivityLabel</th>\n",
       "      <th>Status</th>\n",
       "    </tr>\n",
       "  </thead>\n",
       "  <tbody>\n",
       "    <tr>\n",
       "      <th>0</th>\n",
       "      <td>2009-02-06</td>\n",
       "      <td>17:15:22.42803</td>\n",
       "      <td>M41</td>\n",
       "      <td>ON</td>\n",
       "      <td>R2_work_at_computer</td>\n",
       "      <td>begin</td>\n",
       "    </tr>\n",
       "    <tr>\n",
       "      <th>1</th>\n",
       "      <td>2009-02-06</td>\n",
       "      <td>17:15:27.645659</td>\n",
       "      <td>M41</td>\n",
       "      <td>OFF</td>\n",
       "      <td>NaN</td>\n",
       "      <td>NaN</td>\n",
       "    </tr>\n",
       "    <tr>\n",
       "      <th>2</th>\n",
       "      <td>2009-02-06</td>\n",
       "      <td>17:15:30.88262</td>\n",
       "      <td>M40</td>\n",
       "      <td>OFF</td>\n",
       "      <td>NaN</td>\n",
       "      <td>NaN</td>\n",
       "    </tr>\n",
       "    <tr>\n",
       "      <th>3</th>\n",
       "      <td>2009-02-06</td>\n",
       "      <td>17:15:44.132329</td>\n",
       "      <td>M46</td>\n",
       "      <td>ON</td>\n",
       "      <td>NaN</td>\n",
       "      <td>NaN</td>\n",
       "    </tr>\n",
       "    <tr>\n",
       "      <th>4</th>\n",
       "      <td>2009-02-06</td>\n",
       "      <td>17:15:51.52937</td>\n",
       "      <td>M46</td>\n",
       "      <td>ON</td>\n",
       "      <td>NaN</td>\n",
       "      <td>NaN</td>\n",
       "    </tr>\n",
       "  </tbody>\n",
       "</table>\n",
       "</div>"
      ],
      "text/plain": [
       "         Date             Time SensorID SensorValue        ActivityLabel  \\\n",
       "0  2009-02-06   17:15:22.42803      M41          ON  R2_work_at_computer   \n",
       "1  2009-02-06  17:15:27.645659      M41         OFF                  NaN   \n",
       "2  2009-02-06   17:15:30.88262      M40         OFF                  NaN   \n",
       "3  2009-02-06  17:15:44.132329      M46          ON                  NaN   \n",
       "4  2009-02-06   17:15:51.52937      M46          ON                  NaN   \n",
       "\n",
       "  Status  \n",
       "0  begin  \n",
       "1    NaN  \n",
       "2    NaN  \n",
       "3    NaN  \n",
       "4    NaN  "
      ]
     },
     "execution_count": 9,
     "metadata": {},
     "output_type": "execute_result"
    }
   ],
   "source": [
    "raw.head()"
   ]
  },
  {
   "cell_type": "code",
   "execution_count": 10,
   "metadata": {},
   "outputs": [
    {
     "data": {
      "text/plain": [
       "array(['R2_work_at_computer', 'R1_sleep', 'R2_sleep', 'R1_bed_to_toilet',\n",
       "       'R2_bed_to_toilet', 'R1_groom', 'R2_groom', 'R1_breakfast',\n",
       "       'R2_breakfast', 'R1_work_at_computer', 'R2_prepare_dinner',\n",
       "       'R2_prepare_lunch', 'Cleaning', 'R1_work_at_dining_room_table',\n",
       "       'R2_watch_TV', 'Wash_bathtub'], dtype=object)"
      ]
     },
     "execution_count": 10,
     "metadata": {},
     "output_type": "execute_result"
    }
   ],
   "source": [
    "activity_labels = raw[\"ActivityLabel\"].unique()\n",
    "notna = [type(l)==type(\"\") for l in activity_labels]\n",
    "activity_labels = activity_labels[notna]\n",
    "activity_labels"
   ]
  },
  {
   "cell_type": "code",
   "execution_count": 11,
   "metadata": {},
   "outputs": [],
   "source": [
    "classmap = {k:i for i,k in enumerate(activity_labels)}"
   ]
  },
  {
   "cell_type": "code",
   "execution_count": 12,
   "metadata": {},
   "outputs": [],
   "source": [
    "sensors = np.sort(raw[\"SensorID\"].unique())\n",
    "sensormap = {k:i for i, k in enumerate(sensors)}"
   ]
  },
  {
   "cell_type": "code",
   "execution_count": 13,
   "metadata": {},
   "outputs": [
    {
     "name": "stdout",
     "output_type": "stream",
     "text": [
      "Sensor:  AD1-A\n",
      "Max 2.77903 Min 3.36552\n",
      "Sensor:  AD1-B\n",
      "Max 0.0290629 Min 0.573173\n",
      "Sensor:  AD1-C\n",
      "Max 0.0293364 Min 0.572626\n"
     ]
    }
   ],
   "source": [
    "analog_sensors = [\"AD1-A\", \"AD1-B\", \"AD1-C\"]\n",
    "for s in analog_sensors:\n",
    "    d = raw[raw[\"SensorID\"]==s]\n",
    "    d[\"SensorValue\"] = d[\"SensorValue\"].astype(float)\n",
    "    \n",
    "    print(\"Sensor: \", s)\n",
    "    mx = d[\"SensorValue\"].max()\n",
    "    mn = d[\"SensorValue\"].min()\n",
    "    print(\"Max\", mn, \"Min\", mx)\n",
    "    def normalise(x):\n",
    "        if x[\"SensorID\"]==s:\n",
    "            try:\n",
    "                return (float(x[\"SensorValue\"]) - mn)*1.0/(mx - mn)\n",
    "            except Exception as e:\n",
    "                print(e)\n",
    "                print(type(mn), type(mx), type(float(x[\"SensorValue\"])))\n",
    "                print(\"ERROR\", x[\"SensorValue\"])\n",
    "                return 0\n",
    "        else:\n",
    "            return x[\"SensorValue\"]\n",
    "        \n",
    "    raw[\"NormSensorValue\"] = raw.apply(normalise, axis=1)\n",
    "    "
   ]
  },
  {
   "cell_type": "code",
   "execution_count": 14,
   "metadata": {},
   "outputs": [],
   "source": [
    "raw[\"SensorValue\"] = raw[\"NormSensorValue\"]"
   ]
  },
  {
   "cell_type": "code",
   "execution_count": 15,
   "metadata": {
    "scrolled": true
   },
   "outputs": [],
   "source": [
    "# Add time stamp to data\n",
    "data = raw\n",
    "# data = raw[(raw[\"ActivityLabel\"].notna()) | (raw[\"SensorValue\"] != \"OFF\")]\n",
    "data['DateTime'] =  data['Date'] + \" \"+data['Time']\n",
    "data['Timestamp'] =  pd.to_datetime(data['DateTime'], format='%Y-%m-%d %H:%M:%S.%f')"
   ]
  },
  {
   "cell_type": "code",
   "execution_count": 16,
   "metadata": {},
   "outputs": [],
   "source": [
    "def transform(d):\n",
    "    g = []\n",
    "    activity = None\n",
    "    currGroup = []\n",
    "    d[\"na\"] = d[[\"ActivityLabel\"]].isna()\n",
    "    \n",
    "    for i, row in d.iterrows():\n",
    "        if not row[\"na\"]:\n",
    "            currGroup.append(row)\n",
    "            activity = row[\"ActivityLabel\"]\n",
    "            if row['Status'] == \"end\":\n",
    "                g.append(currGroup)\n",
    "                currGroup = []\n",
    "        else:\n",
    "            row[\"ActivityLabel\"] = activity\n",
    "            row[\"Status\"] = \"working\"\n",
    "            currGroup.append(row)\n",
    "            \n",
    "    g.append(currGroup)\n",
    "    return g\n",
    "\n",
    "grouped = transform(data)"
   ]
  },
  {
   "cell_type": "code",
   "execution_count": 17,
   "metadata": {},
   "outputs": [],
   "source": [
    "# _ = transform(data)\n",
    "df_grouped = []\n",
    "for g in grouped:\n",
    "    df = pd.DataFrame(g)\n",
    "    df_grouped.append(df)\n"
   ]
  },
  {
   "cell_type": "code",
   "execution_count": 31,
   "metadata": {},
   "outputs": [
    {
     "data": {
      "image/png": "[encoded data removed]",
      "text/plain": [
       "<Figure size 720x360 with 1 Axes>"
      ]
     },
     "metadata": {},
     "output_type": "display_data"
    }
   ],
   "source": [
    "nRow = [0 for a in activity_labels]\n",
    "nEventPerClass = {k:[] for k in activity_labels}\n",
    "\n",
    "for g in df_grouped:\n",
    "    if len(g) <=0:\n",
    "        continue\n",
    "        \n",
    "    label = g.head(1)[\"ActivityLabel\"].values[0]\n",
    "    index = classmap[label]\n",
    "    nRow[index] += 1\n",
    "    nEventPerClass[label].append(len(g))\n",
    "\n",
    "ind = np.arange(len(activity_labels))\n",
    "plt.rcParams['figure.figsize'] = [10, 5]\n",
    "\n",
    "plt.rcParams.update({'font.size': 15})\n",
    "p1 = plt.bar(ind, nRow)\n",
    "\n",
    "plt.ylabel('Number of records')\n",
    "plt.title('Number of records in raw data of each activity class')\n",
    "plt.xticks(ind, activity_labels, rotation='vertical')\n",
    "\n",
    "plt.show()"
   ]
  },
  {
   "cell_type": "code",
   "execution_count": 33,
   "metadata": {},
   "outputs": [
    {
     "data": {
      "image/png": "[encoded data removed]",
      "text/plain": [
       "<Figure size 720x360 with 1 Axes>"
      ]
     },
     "metadata": {},
     "output_type": "display_data"
    }
   ],
   "source": [
    "from scipy import stats\n",
    "\n",
    "nEvent = [np.mean(nEventPerClass[k]) for k in nEventPerClass]\n",
    "nEventStd = [stats.sem(nEventPerClass[k], axis=None, ddof=0) for k in nEventPerClass]\n",
    "\n",
    "ind = np.arange(len(activity_labels))\n",
    "plt.rcParams['figure.figsize'] = [10, 5]\n",
    "plt.rcParams.update({'font.size': 15})\n",
    "p1 = plt.bar(ind, nEvent, yerr=nEventStd)\n",
    "\n",
    "plt.ylabel('Number of triggered event per activity')\n",
    "plt.title('Number of triggered event of each activity class')\n",
    "plt.xticks(ind, activity_labels, rotation='vertical')\n",
    "\n",
    "plt.show()\n"
   ]
  },
  {
   "cell_type": "code",
   "execution_count": 34,
   "metadata": {
    "scrolled": false
   },
   "outputs": [],
   "source": [
    "def sensorvalue(row):\n",
    "    sensorId = row[\"SensorID\"]\n",
    "    if row[\"SensorValue\"] in [\"O\", \"ON\", \"ONF\", \"OPEN\", \"PRESENT\"]:\n",
    "        return (sensorId, 1)\n",
    "    elif row[\"SensorValue\"] in [\"OFFF\",\"OF\", \"OFF\", \"CLOSE\", \"ABSENT\"]:\n",
    "        return (sensorId, 0)\n",
    "    else:\n",
    "        if sensorId not in analog_sensors:\n",
    "            print(sensorId)\n",
    "        # check isnumber https://stackoverflow.com/questions/354038/how-do-i-check-if-a-string-is-a-number-float\n",
    "        value = str(row[\"SensorValue\"])\n",
    "        isNumberic = value.replace('.','',1).isdigit()\n",
    "        if isNumberic:\n",
    "            value = float(value)\n",
    "            return (sensorId, value)\n",
    "        else:\n",
    "            raise Exception('Unknown keyword: '+row[\"SensorValue\"])\n",
    "            \n",
    "def toTimeSeries(df, width):\n",
    "\n",
    "    rows = []\n",
    "    start = df[\"Timestamp\"].iloc[0].timestamp()\n",
    "    timestamp = start\n",
    "    activityLabel = df[\"ActivityLabel\"].iloc[0]\n",
    "    \n",
    "    eventsinwindow = {}\n",
    "    for i, row in df.iterrows():\n",
    "        t = row[\"Timestamp\"].timestamp()\n",
    "        interval = ((t-start)//width)\n",
    "        \n",
    "        if interval in eventsinwindow:\n",
    "            eventsinwindow[interval].append(sensorvalue(row))\n",
    "        else:\n",
    "            eventsinwindow[interval] = [sensorvalue(row)]\n",
    "            \n",
    "    \n",
    "    timeslot = eventsinwindow.keys()\n",
    "    timerange = range(int(min(timeslot)), int(max(timeslot))+1)\n",
    "    sensor_values = []\n",
    "\n",
    "    for s in sensors:\n",
    "        values = [0 for t in timerange]\n",
    "        \n",
    "        for t in timerange:\n",
    "            if t not in eventsinwindow:\n",
    "                continue\n",
    "                \n",
    "            events = eventsinwindow[t]\n",
    "            for sensorId, value in events:\n",
    "                ind = sensormap[sensorId]\n",
    "                if sensorId == s:\n",
    "                    values[t] += value\n",
    "                    \n",
    "        sensor_values.append(values)\n",
    "    return sensor_values, timestamp\n",
    "    \n",
    "\n"
   ]
  },
  {
   "cell_type": "code",
   "execution_count": 35,
   "metadata": {},
   "outputs": [],
   "source": [
    "# def plotTimeSeries(ts):\n",
    "    \n",
    "#     if len(ts) <=0:\n",
    "#         return\n",
    "    \n",
    "#     t0 = ts[0]\n",
    "#     ind = np.arange(len(t0))\n",
    "    \n",
    "#     for t in ts:\n",
    "#         p1 = plt.bar(ind, t)\n",
    "\n",
    "#     plt.ylabel('Triggered event value')\n",
    "#     plt.xlabel('Time(mins)')\n",
    "#     plt.title('Triggered event value by time')\n",
    "#     plt.xticks(ind, [i*SLOT_WIDTH//60 for i in ind])\n",
    "    \n",
    "#     plt.show()\n",
    "\n",
    "# plt.rcParams['figure.figsize'] = [15, 2]\n",
    "# # slide long activity in to many slots\n",
    "# SLOT_WIDTH = 15*60\n",
    "\n",
    "# target = df_grouped[2]\n",
    "# ts = toTimeSeries(target, SLOT_WIDTH)\n",
    "# print(\"Label\", target[\"ActivityLabel\"].iloc[0])\n",
    "# plotTimeSeries(ts)"
   ]
  },
  {
   "cell_type": "code",
   "execution_count": 36,
   "metadata": {},
   "outputs": [],
   "source": [
    "df_by_labels = {a:[] for a in activity_labels}\n",
    "\n",
    "    \n",
    "for d in df_grouped:\n",
    "    if len(d) <=0:\n",
    "        continue\n",
    "    label = d[\"ActivityLabel\"].iloc[0]\n",
    "    df_by_labels[label].append(d)\n"
   ]
  },
  {
   "cell_type": "code",
   "execution_count": 37,
   "metadata": {},
   "outputs": [],
   "source": [
    "\n",
    "\n",
    "def plotHeatMap(ax, ts, label):\n",
    "    ax.set_ylabel('Sensor ID')\n",
    "    ax.set_xlabel('Time(mins)')\n",
    "    ax.set_title('Triggered event value by time ['+label+\"]\")\n",
    "    ax.imshow(ts, cmap='Greys')\n",
    "    \n",
    "def normalise(ts):\n",
    "    if len(ts) <=0:\n",
    "        return ts\n",
    "    \n",
    "    acc = [0 for v in ts[0]]\n",
    "    \n",
    "    for t in ts:\n",
    "        ind = 0\n",
    "        for v in t:\n",
    "            acc[ind] += v\n",
    "            ind += 1\n",
    "    \n",
    "    for t in ts:\n",
    "        ind = 0\n",
    "        for a in acc:\n",
    "            if t[ind] ==0:\n",
    "                continue\n",
    "            t[ind] = t[ind]*1.0/a\n",
    "            ind += 1\n",
    "    return ts\n",
    "\n",
    "# for a in activity_labels:\n",
    "#     target = df_by_labels[a][0]\n",
    "    \n",
    "#     ts = toTimeSeries(target, 60)\n",
    "#     ts = normalise(ts)\n",
    "#     plotHeatMap(ts, a)\n",
    "\n",
    "# target = df_by_labels[\"R2_bed_to_toilet\"][4]\n",
    "# ts = toTimeSeries(target, 10)\n",
    "# ts = normalise(ts)\n",
    "# plotHeatMap(ts, \"R2_bed_to_toilet\")\n"
   ]
  },
  {
   "cell_type": "code",
   "execution_count": 39,
   "metadata": {},
   "outputs": [
    {
     "data": {
      "image/png": "[encoded data removed]",
      "text/plain": [
       "<Figure size 1440x720 with 1 Axes>"
      ]
     },
     "metadata": {},
     "output_type": "display_data"
    }
   ],
   "source": [
    "\n",
    "plt.rcParams['figure.figsize'] = [20, 10]\n",
    "fig, ax = plt.subplots(1, 1) \n",
    "target = df_by_labels[\"R1_work_at_computer\"][0]\n",
    "ts, _ = toTimeSeries(target.head(100), 60)\n",
    "ts = normalise(ts)\n",
    "ts = ts[40:]\n",
    "plotHeatMap(ax, ts, \"R1_work_at_computer\")\n"
   ]
  },
  {
   "cell_type": "code",
   "execution_count": 61,
   "metadata": {},
   "outputs": [
    {
     "data": {
      "image/png": "[encoded data removed]",
      "text/plain": [
       "<Figure size 1440x720 with 1 Axes>"
      ]
     },
     "metadata": {},
     "output_type": "display_data"
    }
   ],
   "source": [
    "\n",
    "fig, ax = plt.subplots(1, 1) \n",
    "target = df_by_labels[\"R2_work_at_computer\"][0]\n",
    "ts, _ = toTimeSeries(target, 60)\n",
    "ts = normalise(ts)\n",
    "ts = ts[40:]\n",
    "plotHeatMap(ax, ts, \"R2_work_at_computer\")\n",
    "\n"
   ]
  },
  {
   "cell_type": "code",
   "execution_count": 42,
   "metadata": {},
   "outputs": [
    {
     "data": {
      "image/png": "[encoded data removed]",
      "text/plain": [
       "<Figure size 1440x720 with 1 Axes>"
      ]
     },
     "metadata": {},
     "output_type": "display_data"
    }
   ],
   "source": [
    "\n",
    "fig, ax = plt.subplots(1, 1)\n",
    "                               \n",
    "target = df_by_labels[\"R1_groom\"][3]\n",
    "ts, _ = toTimeSeries(target, 60)\n",
    "ts = normalise(ts)\n",
    "ts = ts[40:]\n",
    "plotHeatMap(ax, ts, \"R1_groom\")"
   ]
  },
  {
   "cell_type": "code",
   "execution_count": 43,
   "metadata": {},
   "outputs": [
    {
     "data": {
      "image/png": "[encoded data removed]",
      "text/plain": [
       "<Figure size 1440x720 with 1 Axes>"
      ]
     },
     "metadata": {},
     "output_type": "display_data"
    }
   ],
   "source": [
    "fig, ax = plt.subplots(1, 1)\n",
    "target = df_by_labels[\"R1_bed_to_toilet\"][3]\n",
    "ts, _ = toTimeSeries(target, 60)\n",
    "ts = normalise(ts)\n",
    "ts = ts[40:]\n",
    "plotHeatMap(ax, ts, \"R1_bed_to_toilet\")\n"
   ]
  },
  {
   "cell_type": "code",
   "execution_count": 25,
   "metadata": {},
   "outputs": [
    {
     "name": "stdout",
     "output_type": "stream",
     "text": [
      "length: 6765\n"
     ]
    },
    {
     "data": {
      "text/html": [
       "<div>\n",
       "<style scoped>\n",
       "    .dataframe tbody tr th:only-of-type {\n",
       "        vertical-align: middle;\n",
       "    }\n",
       "\n",
       "    .dataframe tbody tr th {\n",
       "        vertical-align: top;\n",
       "    }\n",
       "\n",
       "    .dataframe thead th {\n",
       "        text-align: right;\n",
       "    }\n",
       "</style>\n",
       "<table border=\"1\" class=\"dataframe\">\n",
       "  <thead>\n",
       "    <tr style=\"text-align: right;\">\n",
       "      <th></th>\n",
       "      <th>AD1-A</th>\n",
       "      <th>AD1-B</th>\n",
       "      <th>AD1-C</th>\n",
       "      <th>D03</th>\n",
       "      <th>D05</th>\n",
       "      <th>D07</th>\n",
       "      <th>D08</th>\n",
       "      <th>D09</th>\n",
       "      <th>D10</th>\n",
       "      <th>D12</th>\n",
       "      <th>...</th>\n",
       "      <th>M43</th>\n",
       "      <th>M44</th>\n",
       "      <th>M45</th>\n",
       "      <th>M46</th>\n",
       "      <th>M47</th>\n",
       "      <th>M48</th>\n",
       "      <th>M49</th>\n",
       "      <th>M50</th>\n",
       "      <th>M51</th>\n",
       "      <th>ActivityLabel</th>\n",
       "    </tr>\n",
       "  </thead>\n",
       "  <tbody>\n",
       "    <tr>\n",
       "      <th>0</th>\n",
       "      <td>0.0</td>\n",
       "      <td>0.0</td>\n",
       "      <td>0.0</td>\n",
       "      <td>0.0</td>\n",
       "      <td>0.0</td>\n",
       "      <td>0.0</td>\n",
       "      <td>0.0</td>\n",
       "      <td>0.0</td>\n",
       "      <td>0.0</td>\n",
       "      <td>0.0</td>\n",
       "      <td>...</td>\n",
       "      <td>0.0</td>\n",
       "      <td>0.052632</td>\n",
       "      <td>0.578947</td>\n",
       "      <td>0.157895</td>\n",
       "      <td>0.0</td>\n",
       "      <td>0.0</td>\n",
       "      <td>0.157895</td>\n",
       "      <td>0.0</td>\n",
       "      <td>0.000000</td>\n",
       "      <td>R2_work_at_computer</td>\n",
       "    </tr>\n",
       "    <tr>\n",
       "      <th>1</th>\n",
       "      <td>0.0</td>\n",
       "      <td>0.0</td>\n",
       "      <td>0.0</td>\n",
       "      <td>0.0</td>\n",
       "      <td>0.0</td>\n",
       "      <td>0.0</td>\n",
       "      <td>0.0</td>\n",
       "      <td>0.0</td>\n",
       "      <td>0.0</td>\n",
       "      <td>0.0</td>\n",
       "      <td>...</td>\n",
       "      <td>0.0</td>\n",
       "      <td>0.000000</td>\n",
       "      <td>1.000000</td>\n",
       "      <td>0.000000</td>\n",
       "      <td>0.0</td>\n",
       "      <td>0.0</td>\n",
       "      <td>0.000000</td>\n",
       "      <td>0.0</td>\n",
       "      <td>0.000000</td>\n",
       "      <td>R2_work_at_computer</td>\n",
       "    </tr>\n",
       "    <tr>\n",
       "      <th>2</th>\n",
       "      <td>0.0</td>\n",
       "      <td>0.0</td>\n",
       "      <td>0.0</td>\n",
       "      <td>0.0</td>\n",
       "      <td>0.0</td>\n",
       "      <td>0.0</td>\n",
       "      <td>0.0</td>\n",
       "      <td>0.0</td>\n",
       "      <td>0.0</td>\n",
       "      <td>0.0</td>\n",
       "      <td>...</td>\n",
       "      <td>0.0</td>\n",
       "      <td>0.000000</td>\n",
       "      <td>1.000000</td>\n",
       "      <td>0.000000</td>\n",
       "      <td>0.0</td>\n",
       "      <td>0.0</td>\n",
       "      <td>0.000000</td>\n",
       "      <td>0.0</td>\n",
       "      <td>0.000000</td>\n",
       "      <td>R2_work_at_computer</td>\n",
       "    </tr>\n",
       "    <tr>\n",
       "      <th>3</th>\n",
       "      <td>0.0</td>\n",
       "      <td>0.0</td>\n",
       "      <td>0.0</td>\n",
       "      <td>0.0</td>\n",
       "      <td>0.0</td>\n",
       "      <td>0.0</td>\n",
       "      <td>0.0</td>\n",
       "      <td>0.0</td>\n",
       "      <td>0.0</td>\n",
       "      <td>0.0</td>\n",
       "      <td>...</td>\n",
       "      <td>0.0</td>\n",
       "      <td>0.000000</td>\n",
       "      <td>0.928571</td>\n",
       "      <td>0.000000</td>\n",
       "      <td>0.0</td>\n",
       "      <td>0.0</td>\n",
       "      <td>0.000000</td>\n",
       "      <td>0.0</td>\n",
       "      <td>0.071429</td>\n",
       "      <td>R2_work_at_computer</td>\n",
       "    </tr>\n",
       "    <tr>\n",
       "      <th>4</th>\n",
       "      <td>0.0</td>\n",
       "      <td>0.0</td>\n",
       "      <td>0.0</td>\n",
       "      <td>0.0</td>\n",
       "      <td>0.0</td>\n",
       "      <td>0.0</td>\n",
       "      <td>0.0</td>\n",
       "      <td>0.0</td>\n",
       "      <td>0.0</td>\n",
       "      <td>0.0</td>\n",
       "      <td>...</td>\n",
       "      <td>0.0</td>\n",
       "      <td>0.000000</td>\n",
       "      <td>1.000000</td>\n",
       "      <td>0.000000</td>\n",
       "      <td>0.0</td>\n",
       "      <td>0.0</td>\n",
       "      <td>0.000000</td>\n",
       "      <td>0.0</td>\n",
       "      <td>0.000000</td>\n",
       "      <td>R2_work_at_computer</td>\n",
       "    </tr>\n",
       "  </tbody>\n",
       "</table>\n",
       "<p>5 rows × 72 columns</p>\n",
       "</div>"
      ],
      "text/plain": [
       "   AD1-A  AD1-B  AD1-C  D03  D05  D07  D08  D09  D10  D12  \\\n",
       "0    0.0    0.0    0.0  0.0  0.0  0.0  0.0  0.0  0.0  0.0   \n",
       "1    0.0    0.0    0.0  0.0  0.0  0.0  0.0  0.0  0.0  0.0   \n",
       "2    0.0    0.0    0.0  0.0  0.0  0.0  0.0  0.0  0.0  0.0   \n",
       "3    0.0    0.0    0.0  0.0  0.0  0.0  0.0  0.0  0.0  0.0   \n",
       "4    0.0    0.0    0.0  0.0  0.0  0.0  0.0  0.0  0.0  0.0   \n",
       "\n",
       "          ...           M43       M44       M45       M46  M47  M48       M49  \\\n",
       "0         ...           0.0  0.052632  0.578947  0.157895  0.0  0.0  0.157895   \n",
       "1         ...           0.0  0.000000  1.000000  0.000000  0.0  0.0  0.000000   \n",
       "2         ...           0.0  0.000000  1.000000  0.000000  0.0  0.0  0.000000   \n",
       "3         ...           0.0  0.000000  0.928571  0.000000  0.0  0.0  0.000000   \n",
       "4         ...           0.0  0.000000  1.000000  0.000000  0.0  0.0  0.000000   \n",
       "\n",
       "   M50       M51        ActivityLabel  \n",
       "0  0.0  0.000000  R2_work_at_computer  \n",
       "1  0.0  0.000000  R2_work_at_computer  \n",
       "2  0.0  0.000000  R2_work_at_computer  \n",
       "3  0.0  0.071429  R2_work_at_computer  \n",
       "4  0.0  0.000000  R2_work_at_computer  \n",
       "\n",
       "[5 rows x 72 columns]"
      ]
     },
     "execution_count": 25,
     "metadata": {},
     "output_type": "execute_result"
    }
   ],
   "source": [
    "def to_vector_sliding_window(ts, label, window_size=2, timestamp=None, normalise=True):\n",
    "    t0 = ts[0]\n",
    "    T = len(t0)\n",
    "    vectors = []\n",
    "    for i in range(T):\n",
    "        if i+window_size > T:\n",
    "            break\n",
    "        \n",
    "        vector = [0 for s in sensors]\n",
    "        for j in range(window_size):\n",
    "            tid = i+j\n",
    "            \n",
    "            for sid in range(len(ts)):\n",
    "                vector[sid] += ts[sid][tid]*1.0\n",
    "            \n",
    "        if normalise:\n",
    "            acc = sum(vector)\n",
    "            if acc == 0:\n",
    "                continue\n",
    "            vector = [v*1.0/acc for v in vector]\n",
    "        \n",
    "        vector.append(label)\n",
    "        vectors.append(vector)\n",
    "    return vectors\n",
    "\n",
    "def to_vector_chunk(ts, label, chunk_size = 15, timestamp=None, normalise=True):\n",
    "    t0 = ts[0]\n",
    "    T = len(t0)\n",
    "    vectors = []\n",
    "    chunk_index = range(0, len(t0), chunk_size)\n",
    "    for i in chunk_index:\n",
    "        \n",
    "        vector = [0 for s in sensors]\n",
    "        for j in range(i, i+chunk_size):\n",
    "            if j >= len(t0):\n",
    "                break\n",
    "                \n",
    "            tid = j\n",
    "            for sid in range(len(ts)):\n",
    "                vector[sid] += ts[sid][tid]*1.0\n",
    "                \n",
    "        acc = sum(vector)\n",
    "        if acc == 0:\n",
    "            continue \n",
    "            \n",
    "        if normalise:\n",
    "            vector = [v*1.0/acc for v in vector]\n",
    "        \n",
    "        vector.append(label)\n",
    "        vectors.append(vector)\n",
    "    return vectors\n",
    "\n",
    "\n",
    "cols = list(sensors)\n",
    "cols.append(\"ActivityLabel\")\n",
    "vectors = pd.DataFrame(columns=cols)\n",
    "\n",
    "for d in df_grouped:\n",
    "    if len(d) <=0:\n",
    "        continue\n",
    "        \n",
    "    label = d[\"ActivityLabel\"].iloc[0]\n",
    "    ts, timestamp = toTimeSeries(d, 60)\n",
    "    window_size = 5\n",
    "    \n",
    "    if len(ts[0]) < 5:\n",
    "        window_size = len(ts[0])\n",
    "        \n",
    "    v = to_vector_chunk(ts, label, chunk_size=5, timestamp=timestamp, normalise=True)  \n",
    "#     v = to_vector_with_windows(ts, label, window_size=window_size, timestamp=timestamp, normalise=True)\n",
    "    \n",
    "    v = pd.DataFrame(v, columns=cols)\n",
    "    vectors = vectors.append(v, ignore_index=True)\n",
    "    \n",
    "\n",
    "print(\"length:\", len(vectors))\n",
    "vectors.head()\n",
    "\n",
    "\n",
    "\n",
    "\n"
   ]
  },
  {
   "cell_type": "code",
   "execution_count": 26,
   "metadata": {},
   "outputs": [],
   "source": [
    "vectors.to_csv(dataDir+fileName+\".feat.ch5\", index=False)"
   ]
  },
  {
   "cell_type": "code",
   "execution_count": null,
   "metadata": {},
   "outputs": [],
   "source": []
  },
  {
   "cell_type": "code",
   "execution_count": null,
   "metadata": {},
   "outputs": [],
   "source": []
  },
  {
   "cell_type": "code",
   "execution_count": null,
   "metadata": {},
   "outputs": [],
   "source": []
  }
 ],
 "metadata": {
  "kernelspec": {
   "display_name": "Python 3",
   "language": "python",
   "name": "python3"
  },
  "language_info": {
   "codemirror_mode": {
    "name": "ipython",
    "version": 3
   },
   "file_extension": ".py",
   "mimetype": "text/x-python",
   "name": "python",
   "nbconvert_exporter": "python",
   "pygments_lexer": "ipython3",
   "version": "3.7.4"
  }
 },
 "nbformat": 4,
 "nbformat_minor": 2
}
