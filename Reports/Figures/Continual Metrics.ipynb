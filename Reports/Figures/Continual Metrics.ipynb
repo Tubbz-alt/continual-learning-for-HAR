{
 "cells": [
  {
   "cell_type": "code",
   "execution_count": 1,
   "metadata": {},
   "outputs": [],
   "source": [
    "import numpy as np\n",
    "import pandas as pd\n",
    "import seaborn as sns\n",
    "import matplotlib.pyplot as plt\n",
    "from sklearn.manifold import TSNE\n",
    "\n",
    "import warnings\n",
    "warnings.filterwarnings('ignore')\n",
    "\n",
    "plt.rcParams['figure.figsize'] = [10, 5]\n"
   ]
  },
  {
   "cell_type": "code",
   "execution_count": 2,
   "metadata": {},
   "outputs": [],
   "source": [
    "def calStability(raw, task_order, method):\n",
    "    values = {k:[] for k in method}\n",
    "\n",
    "    for t in task_order:\n",
    "        rows = raw[raw[\"task_order\"]==t]\n",
    "        offline = rows[rows[\"method\"]==\"offline\"]\n",
    "        \n",
    "        for m in method:                \n",
    "            target = rows[rows[\"method\"]==m]\n",
    "            _m = target[target[\"task_index\"]==1][[\"accuracy\", \"no_of_test\", \"no_of_correct_prediction\"]]\n",
    "            \n",
    "            if m==\"offline\":\n",
    "                continue\n",
    "                \n",
    "            \n",
    "            _ideal = offline[offline[\"task_index\"]==1][\"accuracy\"]\n",
    "            val = float((_m[\"accuracy\"]/float(_ideal)).sum()/len(_m))\n",
    "            values[m].append(val)\n",
    "    \n",
    "    return values"
   ]
  },
  {
   "cell_type": "code",
   "execution_count": 3,
   "metadata": {},
   "outputs": [],
   "source": [
    "def calPlasticity(raw, task_order, method):\n",
    "    values = {k:[] for k in method}\n",
    "\n",
    "    for t in task_order:\n",
    "        rows = raw[raw[\"task_order\"]==t]\n",
    "        offline = rows[rows[\"method\"]==\"offline\"]\n",
    "        \n",
    "        for m in method:\n",
    "            _sum = 0.0\n",
    "                \n",
    "            target = rows[rows[\"method\"]==m]\n",
    "            train_session = target[\"train_session\"].unique()\n",
    "            \n",
    "            if m==\"offline\":\n",
    "                continue\n",
    "    \n",
    "            _m = target[target[\"train_session\"]==(target[\"task_index\"])][[\"accuracy\", \"no_of_test\", \"no_of_correct_prediction\"]]\n",
    "            \n",
    "            _ideal = offline[\"accuracy\"]\n",
    "            val = _m[\"accuracy\"].div(_ideal.values, axis=0).sum()/len(_m)\n",
    "            values[m].append(val)\n",
    "            \n",
    "    \n",
    "    return values"
   ]
  },
  {
   "cell_type": "code",
   "execution_count": 4,
   "metadata": {},
   "outputs": [],
   "source": [
    "def calOverallAcc(raw, task_order, method):\n",
    "    values = {k:[] for k in method}\n",
    "\n",
    "    for t in task_order:\n",
    "        rows = raw[raw[\"task_order\"]==t]\n",
    "        offline = rows[rows[\"method\"]==\"offline\"]\n",
    "        \n",
    "        for m in method:\n",
    "            if m==\"offline\":\n",
    "                continue\n",
    "                    \n",
    "            _sum = 0.0\n",
    "                \n",
    "            target = rows[rows[\"method\"]==m]\n",
    "            \n",
    "            task_index = target[\"task_index\"].unique()\n",
    "            train_session = target[\"train_session\"].unique()\n",
    "            \n",
    "            _m = target[target[\"train_session\"]==len(task_index)][[\"accuracy\", \"no_of_test\", \"no_of_correct_prediction\"]]\n",
    "            \n",
    "            _ideal = offline[\"accuracy\"]\n",
    "            val = _m[\"accuracy\"].div(_ideal.values, axis=0).sum()/len(_m)\n",
    "            values[m].append(val)\n",
    "            \n",
    "    return values"
   ]
  },
  {
   "cell_type": "code",
   "execution_count": 9,
   "metadata": {},
   "outputs": [
    {
     "name": "stdout",
     "output_type": "stream",
     "text": [
      "HouseA DONE\n",
      "CASAS DONE\n",
      "PAMAP DONE\n",
      "DSADS DONE\n"
     ]
    }
   ],
   "source": [
    "all_values = {}\n",
    "for d in [\"HouseA\", \"CASAS\", \"PAMAP\", \"DSADS\"]:\n",
    "    dataset = d\n",
    "    folder = \"../../Results/\"+dataset+\"/exp_no_of_hidden/\"\n",
    "    \n",
    "    raw = pd.read_csv(folder+\"results.txt\")\n",
    "    raw.columns = [c.strip() for c in raw.columns]\n",
    "    raw[\"train_session\"] = pd.to_numeric(raw[\"train_session\"], errors='coerce')\n",
    "    \n",
    "    cmd = raw[\"cmd\"].unique()\n",
    "    task_order = raw[\"task_order\"].unique()\n",
    "    method = raw[\"method\"].unique()\n",
    "\n",
    "    stability = []\n",
    "    plasticity = []\n",
    "    overallAcc = []\n",
    "\n",
    "    for c in cmd:\n",
    "       \n",
    "        target = raw[raw[\"cmd\"]==c]\n",
    "        m = calStability(target, task_order, method)\n",
    "        stability.append(m)\n",
    "        \n",
    "        m = calPlasticity(target, task_order, method)\n",
    "        plasticity.append(m)\n",
    "        \n",
    "        m = calOverallAcc(target, task_order, method)\n",
    "        overallAcc.append(m)\n",
    "        \n",
    "    all_values[d] = (stability, plasticity, overallAcc)\n",
    "    print(d, \"DONE\")"
   ]
  },
  {
   "cell_type": "markdown",
   "metadata": {},
   "source": [
    "# Continual learning "
   ]
  },
  {
   "cell_type": "code",
   "execution_count": 17,
   "metadata": {},
   "outputs": [],
   "source": [
    "from scipy import stats\n",
    "\n",
    "def selectModel(db):\n",
    "    return all_values[db]\n",
    "\n",
    "def printCLMetrics(values, cmd):\n",
    "    \n",
    "    (stability, plasticity, overallAcc) = values\n",
    "    stability  = stability[cmd]\n",
    "    plasticity = plasticity[cmd]\n",
    "    overallAcc = overallAcc[cmd]\n",
    "    \n",
    "    def p(metric, name):\n",
    "        print(\"Metric: \", name)\n",
    "        for m in metric:\n",
    "            avg = np.mean(metric[m])\n",
    "            err = stats.sem(metric[m])\n",
    "            print(\"{0} {1:.3f} {2:.3f}\".format(m, avg, err))\n",
    "        print(\"=====================\")\n",
    "        print(\"\")\n",
    "        \n",
    "    p(stability, \"M base\")\n",
    "    p(plasticity, \"M new\")\n",
    "    p(overallAcc, \"M overall\")"
   ]
  },
  {
   "cell_type": "code",
   "execution_count": 18,
   "metadata": {},
   "outputs": [
    {
     "name": "stdout",
     "output_type": "stream",
     "text": [
      "Metric:  M base\n",
      "offline nan nan\n",
      "none 0.358 0.007\n",
      "exact 1.027 0.010\n",
      "mp-gan 0.929 0.032\n",
      "mp-wgan 0.870 0.050\n",
      "sg-cgan 0.961 0.022\n",
      "sg-cwgan 0.818 0.037\n",
      "lwf 0.510 0.056\n",
      "ewc 0.378 0.021\n",
      "=====================\n",
      "\n",
      "Metric:  M new\n",
      "offline nan nan\n",
      "none 1.126 0.007\n",
      "exact 1.067 0.007\n",
      "mp-gan 1.017 0.020\n",
      "mp-wgan 1.034 0.022\n",
      "sg-cgan 1.021 0.024\n",
      "sg-cwgan 1.063 0.016\n",
      "lwf 1.074 0.021\n",
      "ewc 1.126 0.007\n",
      "=====================\n",
      "\n",
      "Metric:  M overall\n",
      "offline nan nan\n",
      "none 0.388 0.007\n",
      "exact 1.006 0.006\n",
      "mp-gan 0.843 0.028\n",
      "mp-wgan 0.825 0.036\n",
      "sg-cgan 0.888 0.025\n",
      "sg-cwgan 0.840 0.030\n",
      "lwf 0.535 0.040\n",
      "ewc 0.385 0.008\n",
      "=====================\n",
      "\n"
     ]
    }
   ],
   "source": [
    "m = selectModel(\"HouseA\")\n",
    "printCLMetrics(m, 3)"
   ]
  },
  {
   "cell_type": "code",
   "execution_count": 19,
   "metadata": {},
   "outputs": [
    {
     "name": "stdout",
     "output_type": "stream",
     "text": [
      "Metric:  M base\n",
      "offline nan nan\n",
      "none 0.286 0.050\n",
      "exact 1.226 0.164\n",
      "mp-gan 0.994 0.157\n",
      "mp-wgan 0.899 0.166\n",
      "sg-cgan 1.145 0.252\n",
      "sg-cwgan 0.877 0.101\n",
      "lwf 0.468 0.116\n",
      "ewc 0.283 0.049\n",
      "=====================\n",
      "\n",
      "Metric:  M new\n",
      "offline nan nan\n",
      "none 1.195 0.048\n",
      "exact 1.173 0.049\n",
      "mp-gan 1.069 0.067\n",
      "mp-wgan 1.120 0.065\n",
      "sg-cgan 0.986 0.070\n",
      "sg-cwgan 1.134 0.068\n",
      "lwf 1.143 0.069\n",
      "ewc 1.203 0.046\n",
      "=====================\n",
      "\n",
      "Metric:  M overall\n",
      "offline nan nan\n",
      "none 0.231 0.023\n",
      "exact 1.037 0.038\n",
      "mp-gan 0.801 0.043\n",
      "mp-wgan 0.798 0.035\n",
      "sg-cgan 0.827 0.063\n",
      "sg-cwgan 0.758 0.038\n",
      "lwf 0.498 0.043\n",
      "ewc 0.229 0.023\n",
      "=====================\n",
      "\n"
     ]
    }
   ],
   "source": [
    "m = selectModel(\"CASAS\")\n",
    "printCLMetrics(m, 3)"
   ]
  },
  {
   "cell_type": "code",
   "execution_count": 20,
   "metadata": {},
   "outputs": [
    {
     "name": "stdout",
     "output_type": "stream",
     "text": [
      "Metric:  M base\n",
      "offline nan nan\n",
      "none 0.269 0.020\n",
      "exact 1.116 0.054\n",
      "mp-gan 0.608 0.046\n",
      "mp-wgan 0.298 0.039\n",
      "sg-cgan 0.793 0.059\n",
      "sg-cwgan 0.509 0.061\n",
      "lwf 0.269 0.020\n",
      "ewc 0.226 0.011\n",
      "=====================\n",
      "\n",
      "Metric:  M new\n",
      "offline nan nan\n",
      "none 1.176 0.034\n",
      "exact 0.977 0.055\n",
      "mp-gan 1.153 0.029\n",
      "mp-wgan 1.167 0.032\n",
      "sg-cgan 1.138 0.038\n",
      "sg-cwgan 1.161 0.033\n",
      "lwf 1.176 0.034\n",
      "ewc 1.196 0.035\n",
      "=====================\n",
      "\n",
      "Metric:  M overall\n",
      "offline nan nan\n",
      "none 0.319 0.023\n",
      "exact 0.972 0.056\n",
      "mp-gan 0.682 0.042\n",
      "mp-wgan 0.418 0.031\n",
      "sg-cgan 0.848 0.042\n",
      "sg-cwgan 0.485 0.038\n",
      "lwf 0.319 0.023\n",
      "ewc 0.221 0.005\n",
      "=====================\n",
      "\n"
     ]
    }
   ],
   "source": [
    "m = selectModel(\"PAMAP\")\n",
    "printCLMetrics(m, 3)"
   ]
  },
  {
   "cell_type": "code",
   "execution_count": 21,
   "metadata": {},
   "outputs": [
    {
     "name": "stdout",
     "output_type": "stream",
     "text": [
      "Metric:  M base\n",
      "offline nan nan\n",
      "none 0.420 0.059\n",
      "exact 1.972 0.306\n",
      "mp-gan 0.640 0.076\n",
      "mp-wgan 0.448 0.061\n",
      "sg-cgan 0.972 0.227\n",
      "sg-cwgan 0.566 0.078\n",
      "lwf 0.420 0.059\n",
      "ewc 0.396 0.062\n",
      "=====================\n",
      "\n",
      "Metric:  M new\n",
      "offline nan nan\n",
      "none 1.440 0.137\n",
      "exact 0.848 0.110\n",
      "mp-gan 1.334 0.113\n",
      "mp-wgan 1.463 0.132\n",
      "sg-cgan 1.336 0.107\n",
      "sg-cwgan 1.447 0.137\n",
      "lwf 1.440 0.137\n",
      "ewc 1.612 0.102\n",
      "=====================\n",
      "\n",
      "Metric:  M overall\n",
      "offline nan nan\n",
      "none 0.327 0.045\n",
      "exact 0.833 0.112\n",
      "mp-gan 0.660 0.056\n",
      "mp-wgan 0.386 0.062\n",
      "sg-cgan 0.767 0.086\n",
      "sg-cwgan 0.422 0.059\n",
      "lwf 0.327 0.045\n",
      "ewc 0.277 0.027\n",
      "=====================\n",
      "\n"
     ]
    }
   ],
   "source": [
    "m = selectModel(\"DSADS\")\n",
    "printCLMetrics(m, 3)"
   ]
  }
 ],
 "metadata": {
  "kernelspec": {
   "display_name": "Python 3",
   "language": "python",
   "name": "python3"
  },
  "language_info": {
   "codemirror_mode": {
    "name": "ipython",
    "version": 3
   },
   "file_extension": ".py",
   "mimetype": "text/x-python",
   "name": "python",
   "nbconvert_exporter": "python",
   "pygments_lexer": "ipython3",
   "version": "3.7.3"
  }
 },
 "nbformat": 4,
 "nbformat_minor": 2
}
