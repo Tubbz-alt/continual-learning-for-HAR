{
 "cells": [
  {
   "cell_type": "code",
   "execution_count": 1,
   "metadata": {},
   "outputs": [],
   "source": [
    "import numpy as np\n",
    "import pandas as pd\n",
    "import seaborn as sns\n",
    "import matplotlib.pyplot as plt\n",
    "from sklearn.manifold import TSNE\n",
    "\n",
    "import warnings\n",
    "warnings.filterwarnings('ignore')\n",
    "\n",
    "plt.rcParams['figure.figsize'] = [10, 5]\n"
   ]
  },
  {
   "cell_type": "code",
   "execution_count": 43,
   "metadata": {},
   "outputs": [
    {
     "name": "stdout",
     "output_type": "stream",
     "text": [
      "Dataset HouseA\n",
      "mp-gan 1054.331 86.979 // 51.897 1.253\n",
      "mp-wgan 1988.353 187.859 // 28.342 0.727\n",
      "sg-cgan 6064.172 421.031 // 23.709 0.755\n",
      "sg-cwgan 8907.074 566.840 // 15.852 0.479\n",
      "=============\n",
      "Dataset CASAS\n",
      "mp-gan 2992.102 66.563 // 54.357 1.095\n",
      "mp-wgan 5461.099 104.964 // 30.039 0.608\n",
      "sg-cgan 17355.413 412.258 // 23.109 0.508\n",
      "sg-cwgan 25004.842 562.970 // 15.234 0.310\n",
      "=============\n",
      "Dataset PAMAP\n",
      "mp-gan 1701.833 16.114 // 70.936 0.220\n",
      "mp-wgan 2866.962 33.650 // 42.089 0.127\n",
      "sg-cgan 24298.179 1354.628 // 21.915 0.609\n",
      "sg-cwgan 33588.528 1584.476 // 15.282 0.417\n",
      "=============\n",
      "Dataset DSADS\n",
      "mp-gan 1584.466 0.447 // 75.979 0.170\n",
      "mp-wgan 3109.992 10.843 // 38.655 0.067\n",
      "sg-cgan 17282.268 66.416 // 25.832 0.623\n",
      "sg-cwgan 22425.691 217.493 // 80.249 19.343\n",
      "=============\n"
     ]
    }
   ],
   "source": [
    "from scipy import stats \n",
    "all_values = {}\n",
    "for d in [\"HouseA\", \"CASAS\", \"PAMAP\", \"DSADS\"]:\n",
    "    dataset = d\n",
    "    folder = \"../../Results/\"+dataset+\"/exp_no_of_hidden/\"\n",
    "    \n",
    "    raw = pd.read_csv(folder+\"results.txt\")\n",
    "    raw.columns = [c.strip() for c in raw.columns]\n",
    "    raw[\"train_session\"] = pd.to_numeric(raw[\"train_session\"], errors='coerce')\n",
    "    \n",
    "    raw[\"generator_training_time\"] = pd.to_numeric(raw[\"generator_training_time\"], errors='coerce')\n",
    "    \n",
    "    models = raw[\"method\"].unique()\n",
    "    print(\"Dataset\", d)\n",
    "    for model in [\"mp-gan\", \"mp-wgan\", \"sg-cgan\", \"sg-cwgan\"]:\n",
    "        \n",
    "        # operation per seconds\n",
    "        m = raw[raw[\"method\"]==model][\"generator_training_time\"]\n",
    "        op = 2000 if model in [\"mp-gan\", \"mp-wgan\"] else 5000\n",
    "        ops = op/m\n",
    "        o = ops.mean()\n",
    "        oerr = stats.sem(list(ops))\n",
    "        \n",
    "        x = raw[raw[\"method\"]==model].groupby(\"task_order\")['generator_training_time'].agg('sum')\n",
    "\n",
    "        t = x.mean()\n",
    "        err = stats.sem(list(x))\n",
    "        \n",
    "        \n",
    "        print(\"{0} {1:.3f} {2:.3f} // {3:.3f} {4:.3f}\".format(model, t, err, o, oerr))\n",
    "    print(\"=============\")"
   ]
  },
  {
   "cell_type": "code",
   "execution_count": null,
   "metadata": {},
   "outputs": [],
   "source": []
  }
 ],
 "metadata": {
  "kernelspec": {
   "display_name": "Python 3",
   "language": "python",
   "name": "python3"
  },
  "language_info": {
   "codemirror_mode": {
    "name": "ipython",
    "version": 3
   },
   "file_extension": ".py",
   "mimetype": "text/x-python",
   "name": "python",
   "nbconvert_exporter": "python",
   "pygments_lexer": "ipython3",
   "version": "3.7.3"
  }
 },
 "nbformat": 4,
 "nbformat_minor": 2
}
