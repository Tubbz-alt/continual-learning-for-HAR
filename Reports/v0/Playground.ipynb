{
 "cells": [
  {
   "cell_type": "markdown",
   "metadata": {},
   "source": [
    "# Evaluation\n"
   ]
  },
  {
   "cell_type": "code",
   "execution_count": 1,
   "metadata": {},
   "outputs": [
    {
     "name": "stderr",
     "output_type": "stream",
     "text": [
      "/usr/lib64/python3.7/site-packages/sklearn/utils/__init__.py:4: DeprecationWarning: Using or importing the ABCs from 'collections' instead of from 'collections.abc' is deprecated, and in 3.8 it will stop working\n",
      "  from collections import Sequence\n"
     ]
    }
   ],
   "source": [
    "import numpy as np\n",
    "import pandas as pd\n",
    "import seaborn as sns\n",
    "import matplotlib.pyplot as plt\n",
    "from sklearn.manifold import TSNE\n",
    "\n",
    "import warnings\n",
    "warnings.filterwarnings('ignore')\n",
    "\n",
    "plt.rcParams['figure.figsize'] = [10, 5]"
   ]
  },
  {
   "cell_type": "code",
   "execution_count": 8,
   "metadata": {},
   "outputs": [],
   "source": [
    "from scipy import stats\n",
    "\n",
    "def printCLMetrics(all_MBase, all_Mnew, all_Mnow):\n",
    "    def p(metric, name):\n",
    "        \n",
    "        print(\"Metric: \", name)\n",
    "        for m in metric:\n",
    "            avg = np.mean(metric[m])\n",
    "            err = stats.sem(metric[m])\n",
    "            print(\"{0} {1:.3f} {2:.3f}\".format(m, avg, err))\n",
    "        print(\"=====================\")\n",
    "        print(\"\")\n",
    "            \n",
    "            \n",
    "    p(all_MBase, \"M base\")\n",
    "    p(all_Mnew, \"M new\")\n",
    "    p(all_Mnow, \"M now\")\n",
    "    \n",
    "    "
   ]
  },
  {
   "cell_type": "code",
   "execution_count": 7,
   "metadata": {},
   "outputs": [
    {
     "data": {
      "text/html": [
       "<div>\n",
       "<style scoped>\n",
       "    .dataframe tbody tr th:only-of-type {\n",
       "        vertical-align: middle;\n",
       "    }\n",
       "\n",
       "    .dataframe tbody tr th {\n",
       "        vertical-align: top;\n",
       "    }\n",
       "\n",
       "    .dataframe thead th {\n",
       "        text-align: right;\n",
       "    }\n",
       "</style>\n",
       "<table border=\"1\" class=\"dataframe\">\n",
       "  <thead>\n",
       "    <tr style=\"text-align: right;\">\n",
       "      <th></th>\n",
       "      <th>task_order</th>\n",
       "      <th>method</th>\n",
       "      <th>train_session</th>\n",
       "      <th>task_index</th>\n",
       "      <th>no_of_test</th>\n",
       "      <th>no_of_correct_prediction</th>\n",
       "      <th>accuracy</th>\n",
       "      <th>solver_training_time</th>\n",
       "      <th>generator_training_time</th>\n",
       "    </tr>\n",
       "  </thead>\n",
       "  <tbody>\n",
       "    <tr>\n",
       "      <th>0</th>\n",
       "      <td>0</td>\n",
       "      <td>offline</td>\n",
       "      <td>None</td>\n",
       "      <td>1</td>\n",
       "      <td>700</td>\n",
       "      <td>700</td>\n",
       "      <td>1.000000</td>\n",
       "      <td>None</td>\n",
       "      <td>None</td>\n",
       "    </tr>\n",
       "    <tr>\n",
       "      <th>1</th>\n",
       "      <td>0</td>\n",
       "      <td>offline</td>\n",
       "      <td>None</td>\n",
       "      <td>2</td>\n",
       "      <td>650</td>\n",
       "      <td>645</td>\n",
       "      <td>0.992308</td>\n",
       "      <td>None</td>\n",
       "      <td>None</td>\n",
       "    </tr>\n",
       "    <tr>\n",
       "      <th>2</th>\n",
       "      <td>0</td>\n",
       "      <td>offline</td>\n",
       "      <td>None</td>\n",
       "      <td>3</td>\n",
       "      <td>650</td>\n",
       "      <td>648</td>\n",
       "      <td>0.996923</td>\n",
       "      <td>None</td>\n",
       "      <td>None</td>\n",
       "    </tr>\n",
       "    <tr>\n",
       "      <th>3</th>\n",
       "      <td>0</td>\n",
       "      <td>offline</td>\n",
       "      <td>None</td>\n",
       "      <td>4</td>\n",
       "      <td>650</td>\n",
       "      <td>428</td>\n",
       "      <td>0.658462</td>\n",
       "      <td>None</td>\n",
       "      <td>None</td>\n",
       "    </tr>\n",
       "    <tr>\n",
       "      <th>4</th>\n",
       "      <td>0</td>\n",
       "      <td>offline</td>\n",
       "      <td>None</td>\n",
       "      <td>5</td>\n",
       "      <td>650</td>\n",
       "      <td>502</td>\n",
       "      <td>0.772308</td>\n",
       "      <td>None</td>\n",
       "      <td>None</td>\n",
       "    </tr>\n",
       "  </tbody>\n",
       "</table>\n",
       "</div>"
      ],
      "text/plain": [
       "   task_order   method train_session  task_index  no_of_test  \\\n",
       "0           0  offline          None           1         700   \n",
       "1           0  offline          None           2         650   \n",
       "2           0  offline          None           3         650   \n",
       "3           0  offline          None           4         650   \n",
       "4           0  offline          None           5         650   \n",
       "\n",
       "   no_of_correct_prediction  accuracy solver_training_time  \\\n",
       "0                       700  1.000000                 None   \n",
       "1                       645  0.992308                 None   \n",
       "2                       648  0.996923                 None   \n",
       "3                       428  0.658462                 None   \n",
       "4                       502  0.772308                 None   \n",
       "\n",
       "  generator_training_time  \n",
       "0                    None  \n",
       "1                    None  \n",
       "2                    None  \n",
       "3                    None  \n",
       "4                    None  "
      ]
     },
     "execution_count": 7,
     "metadata": {},
     "output_type": "execute_result"
    }
   ],
   "source": [
    "# Result from newsrc/result_iter1000-1000_h500-100_all/\n",
    "\n",
    "folder = \"newsrc/results/\"\n",
    "raw = pd.read_csv(folder+\"results.txt\")\n",
    "raw.columns = [c.strip() for c in raw.columns]\n",
    "\n",
    "raw.head()"
   ]
  },
  {
   "cell_type": "code",
   "execution_count": 11,
   "metadata": {},
   "outputs": [
    {
     "name": "stdout",
     "output_type": "stream",
     "text": [
      "0 0.884 0.071\n",
      "1 0.889 0.076\n",
      "2 0.653 0.082\n"
     ]
    }
   ],
   "source": [
    "from scipy import stats\n",
    "\n",
    "task_order = raw[\"task_order\"].unique()\n",
    "method = raw[\"method\"].unique()\n",
    "\n",
    "for t in task_order:\n",
    "    rows = raw[raw[\"task_order\"]==t]\n",
    "    \n",
    "    mm = list(rows[\"accuracy\"])\n",
    "    avg = np.mean(mm)\n",
    "    err = stats.sem(mm)\n",
    "    print(\"{0} {1:.3f} {2:.3f}\".format(t, avg, err))"
   ]
  },
  {
   "cell_type": "code",
   "execution_count": null,
   "metadata": {},
   "outputs": [],
   "source": []
  }
 ],
 "metadata": {
  "kernelspec": {
   "display_name": "Python 3",
   "language": "python",
   "name": "python3"
  },
  "language_info": {
   "codemirror_mode": {
    "name": "ipython",
    "version": 3
   },
   "file_extension": ".py",
   "mimetype": "text/x-python",
   "name": "python",
   "nbconvert_exporter": "python",
   "pygments_lexer": "ipython3",
   "version": "3.7.3"
  }
 },
 "nbformat": 4,
 "nbformat_minor": 2
}
